{
 "cells": [
  {
   "cell_type": "code",
   "execution_count": 1,
   "metadata": {},
   "outputs": [
    {
     "name": "stdout",
     "output_type": "stream",
     "text": [
      "Requirement already satisfied: pytube3 in c:\\users\\user\\appdata\\local\\programs\\python\\python312\\lib\\site-packages (9.6.4)\n",
      "Requirement already satisfied: typing-extensions in c:\\users\\user\\appdata\\local\\programs\\python\\python312\\lib\\site-packages (from pytube3) (4.12.2)\n",
      "Note: you may need to restart the kernel to use updated packages.\n"
     ]
    },
    {
     "name": "stderr",
     "output_type": "stream",
     "text": [
      "\n",
      "[notice] A new release of pip is available: 23.2.1 -> 24.2\n",
      "[notice] To update, run: python.exe -m pip install --upgrade pip\n"
     ]
    }
   ],
   "source": [
    "pip install pytube3"
   ]
  },
  {
   "cell_type": "code",
   "execution_count": 2,
   "metadata": {},
   "outputs": [
    {
     "name": "stdout",
     "output_type": "stream",
     "text": [
      "Requirement already satisfied: pytube in c:\\users\\user\\appdata\\local\\programs\\python\\python312\\lib\\site-packages (15.0.0)Note: you may need to restart the kernel to use updated packages.\n"
     ]
    },
    {
     "name": "stderr",
     "output_type": "stream",
     "text": [
      "\n",
      "[notice] A new release of pip is available: 23.2.1 -> 24.2\n",
      "[notice] To update, run: python.exe -m pip install --upgrade pip\n"
     ]
    },
    {
     "name": "stdout",
     "output_type": "stream",
     "text": [
      "\n"
     ]
    }
   ],
   "source": [
    "pip install --upgrade pytube"
   ]
  },
  {
   "cell_type": "code",
   "execution_count": 3,
   "metadata": {},
   "outputs": [],
   "source": [
    "from pytube import YouTube"
   ]
  },
  {
   "cell_type": "code",
   "execution_count": 4,
   "metadata": {},
   "outputs": [
    {
     "name": "stdout",
     "output_type": "stream",
     "text": [
      "Requirement already satisfied: yt-dlp in c:\\users\\user\\appdata\\local\\programs\\python\\python312\\lib\\site-packages (2024.8.6)\n",
      "Requirement already satisfied: brotli in c:\\users\\user\\appdata\\local\\programs\\python\\python312\\lib\\site-packages (from yt-dlp) (1.1.0)\n",
      "Requirement already satisfied: certifi in c:\\users\\user\\appdata\\local\\programs\\python\\python312\\lib\\site-packages (from yt-dlp) (2024.7.4)\n",
      "Requirement already satisfied: mutagen in c:\\users\\user\\appdata\\local\\programs\\python\\python312\\lib\\site-packages (from yt-dlp) (1.47.0)\n",
      "Requirement already satisfied: pycryptodomex in c:\\users\\user\\appdata\\local\\programs\\python\\python312\\lib\\site-packages (from yt-dlp) (3.20.0)\n",
      "Requirement already satisfied: requests<3,>=2.32.2 in c:\\users\\user\\appdata\\local\\programs\\python\\python312\\lib\\site-packages (from yt-dlp) (2.32.3)\n",
      "Requirement already satisfied: urllib3<3,>=1.26.17 in c:\\users\\user\\appdata\\local\\programs\\python\\python312\\lib\\site-packages (from yt-dlp) (2.2.2)\n",
      "Requirement already satisfied: websockets>=12.0 in c:\\users\\user\\appdata\\local\\programs\\python\\python312\\lib\\site-packages (from yt-dlp) (13.0.1)\n",
      "Requirement already satisfied: charset-normalizer<4,>=2 in c:\\users\\user\\appdata\\local\\programs\\python\\python312\\lib\\site-packages (from requests<3,>=2.32.2->yt-dlp) (3.3.2)\n",
      "Requirement already satisfied: idna<4,>=2.5 in c:\\users\\user\\appdata\\local\\programs\\python\\python312\\lib\\site-packages (from requests<3,>=2.32.2->yt-dlp) (3.8)\n",
      "Note: you may need to restart the kernel to use updated packages.\n"
     ]
    },
    {
     "name": "stderr",
     "output_type": "stream",
     "text": [
      "\n",
      "[notice] A new release of pip is available: 23.2.1 -> 24.2\n",
      "[notice] To update, run: python.exe -m pip install --upgrade pip\n"
     ]
    }
   ],
   "source": [
    "pip install yt-dlp"
   ]
  },
  {
   "cell_type": "code",
   "execution_count": 5,
   "metadata": {},
   "outputs": [],
   "source": [
    "link = input(\"Enter youtube video\")\n",
    "yt = YouTube(link)"
   ]
  },
  {
   "cell_type": "code",
   "execution_count": 6,
   "metadata": {},
   "outputs": [
    {
     "name": "stdout",
     "output_type": "stream",
     "text": [
      "Title : New York City Walk - Manhattan Virtual Tour - United States Travel Video\n",
      "Views : 2631669\n",
      "Duration : 2348\n",
      "Description : None\n",
      "Ratings : None\n"
     ]
    }
   ],
   "source": [
    "# To print title\n",
    "print(\"Title :\", yt.title)\n",
    "# To get number of views\n",
    "print(\"Views :\", yt.views)\n",
    "# To get the length of video\n",
    "print(\"Duration :\", yt.length)\n",
    "# To get description\n",
    "print(\"Description :\", yt.description)\n",
    "# To get ratings\n",
    "print(\"Ratings :\", yt.rating)"
   ]
  },
  {
   "cell_type": "code",
   "execution_count": 7,
   "metadata": {},
   "outputs": [
    {
     "name": "stdout",
     "output_type": "stream",
     "text": [
      "Downloading...\n",
      "[youtube] Extracting URL: https://youtu.be/E6fefQGxg7g?si=6gJt3EGIn1N0qcit\n",
      "[youtube] E6fefQGxg7g: Downloading webpage\n",
      "[youtube] E6fefQGxg7g: Downloading ios player API JSON\n",
      "[youtube] E6fefQGxg7g: Downloading web creator player API JSON\n",
      "[youtube] E6fefQGxg7g: Downloading player 57c75fa4\n",
      "[youtube] E6fefQGxg7g: Downloading m3u8 information\n",
      "[info] E6fefQGxg7g: Downloading 1 format(s): 18\n",
      "[download] Destination: New York City Walk - Manhattan Virtual Tour - United States Travel Video [E6fefQGxg7g].mp4\n",
      "[download] 100% of  206.57MiB in 00:01:07 at 3.06MiB/s     \n",
      "Download completed.\n"
     ]
    }
   ],
   "source": [
    "from yt_dlp import YoutubeDL\n",
    "\n",
    "download_option = input(\"Do you want to download this video? (yes/no): \").lower()\n",
    "\n",
    "if download_option == \"yes\":\n",
    "    url = 'https://youtu.be/E6fefQGxg7g?si=6gJt3EGIn1N0qcit'\n",
    "    ydl_opts = {'format': 'best'}\n",
    "    with YoutubeDL(ydl_opts) as ydl:\n",
    "        print(\"Downloading...\")\n",
    "        ydl.download([url])\n",
    "        print(\"Download completed.\")\n",
    "else:\n",
    "    print(\"Download aborted.\")\n"
   ]
  },
  {
   "cell_type": "code",
   "execution_count": 8,
   "metadata": {},
   "outputs": [
    {
     "data": {
      "text/plain": [
       "'c:\\\\Users\\\\USER\\\\AppData\\\\Local\\\\Programs\\\\Microsoft VS Code'"
      ]
     },
     "execution_count": 8,
     "metadata": {},
     "output_type": "execute_result"
    }
   ],
   "source": [
    "import os\n",
    "os.getcwd()"
   ]
  },
  {
   "cell_type": "code",
   "execution_count": null,
   "metadata": {},
   "outputs": [],
   "source": []
  },
  {
   "cell_type": "code",
   "execution_count": null,
   "metadata": {},
   "outputs": [],
   "source": []
  },
  {
   "cell_type": "code",
   "execution_count": null,
   "metadata": {},
   "outputs": [],
   "source": []
  },
  {
   "cell_type": "code",
   "execution_count": null,
   "metadata": {},
   "outputs": [],
   "source": []
  },
  {
   "cell_type": "code",
   "execution_count": null,
   "metadata": {},
   "outputs": [],
   "source": []
  }
 ],
 "metadata": {
  "kernelspec": {
   "display_name": "Python 3",
   "language": "python",
   "name": "python3"
  },
  "language_info": {
   "codemirror_mode": {
    "name": "ipython",
    "version": 3
   },
   "file_extension": ".py",
   "mimetype": "text/x-python",
   "name": "python",
   "nbconvert_exporter": "python",
   "pygments_lexer": "ipython3",
   "version": "3.12.1"
  }
 },
 "nbformat": 4,
 "nbformat_minor": 2
}
